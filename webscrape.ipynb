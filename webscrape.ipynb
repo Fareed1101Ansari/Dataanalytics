{
 "cells": [
  {
   "cell_type": "code",
   "execution_count": 1,
   "id": "22796b83-d2de-4012-b0f2-e32ac21963dd",
   "metadata": {},
   "outputs": [],
   "source": [
    "import pandas as pd\n",
    "import requests\n",
    "from bs4 import BeautifulSoup as bs"
   ]
  },
  {
   "cell_type": "code",
   "execution_count": 2,
   "id": "38578758-279d-46d0-88e0-3d69765c8112",
   "metadata": {},
   "outputs": [],
   "source": [
    "PhoneName = []\n",
    "PhoneOgprice = []\n",
    "PhoneSpecs = []\n",
    "PhoneOfferprice = []"
   ]
  },
  {
   "cell_type": "code",
   "execution_count": 39,
   "id": "2c44bb29-c536-457b-92b5-d1258d78d66c",
   "metadata": {},
   "outputs": [],
   "source": [
    "url = \"https://www.flipkart.com/search?q=samsung%20mobile&otracker=search&otracker1=search&marketplace=FLIPKART&as-show=on&as=off\"\n",
    "request = requests.get(url).content\n",
    "soup = bs(request, \"html.parser\")\n",
    "data = soup.findAll('div',href=True, attrs={'class': '_1YokD2 _3Mn1Gg'})\n"
   ]
  },
  {
   "cell_type": "code",
   "execution_count": 53,
   "id": "5b3b0216-f6e1-465c-a9a0-536ec9778d43",
   "metadata": {},
   "outputs": [],
   "source": [
    "for i in data:\n",
    "    pName = i.find('div', attrs={'class': '_4rR01T'})\n",
    "    pOgprice = i.find('div', attrs={'class': '_3I9_wc _27UcVY'})\n",
    "    pSpecs = i.find('ul', attrs={'class': '_1xgFaf'})\n",
    "    pOfferprice = i.find('div', attrs={'class': '_30jeq3 _1_WHN1'})\n",
    "    \n",
    "PhoneName.append(pName.text)\n",
    "PhoneOgprice.append(pOgprice.text)\n",
    "PhoneSpecs.append(pSpecs.text)\n",
    "PhoneOfferprice.append(pOfferprice.text)"
   ]
  },
  {
   "cell_type": "code",
   "execution_count": 54,
   "id": "d3f3ee8f-0d83-4920-beed-35cef516cfa2",
   "metadata": {},
   "outputs": [
    {
     "data": {
      "text/plain": [
       "69"
      ]
     },
     "execution_count": 54,
     "metadata": {},
     "output_type": "execute_result"
    }
   ],
   "source": [
    "len(PhoneSpecs)"
   ]
  },
  {
   "cell_type": "code",
   "execution_count": 55,
   "id": "0ec51f26-b747-4ec8-be33-f5b1ded7a4c1",
   "metadata": {},
   "outputs": [
    {
     "data": {
      "text/plain": [
       "75"
      ]
     },
     "execution_count": 55,
     "metadata": {},
     "output_type": "execute_result"
    }
   ],
   "source": [
    "len(PhoneName)"
   ]
  },
  {
   "cell_type": "code",
   "execution_count": 56,
   "id": "86635f79-d89f-4c66-bd78-26659c226e23",
   "metadata": {},
   "outputs": [
    {
     "name": "stdout",
     "output_type": "stream",
     "text": [
      "70\n",
      "68\n"
     ]
    }
   ],
   "source": [
    "print(len(PhoneOgprice))\n",
    "print(len(PhoneOfferprice))"
   ]
  },
  {
   "cell_type": "code",
   "execution_count": 41,
   "id": "a7f0783d-dec5-481c-a800-1de590692fd4",
   "metadata": {},
   "outputs": [
    {
     "name": "stdout",
     "output_type": "stream",
     "text": [
      "Lengths of the lists do not match.\n"
     ]
    }
   ],
   "source": [
    "# Check if the lengths of the lists are equal\n",
    "if len(PhoneName) == len(PhoneOfferprice) == len(PhoneOgprice) == len(PhoneSpecs):\n",
    "    data = {\n",
    "        \"Product Name\": PhoneName,\n",
    "        \"Offer Price\": PhoneOfferprice,\n",
    "        \"Original Price\": PhoneOgprice,\n",
    "        \"Specifications\": PhoneSpecs\n",
    "    }\n",
    "\n",
    "    index = [\"A\", \"B\", \"C\", \"D\"][:len(PhoneName)]\n",
    "\n",
    "    df = pd.DataFrame(data, index=index)\n",
    "    print(df)\n",
    "else:\n",
    "    print(\"Lengths of the lists do not match.\")"
   ]
  },
  {
   "cell_type": "code",
   "execution_count": null,
   "id": "c8cc4dbf-fbb3-4b5b-81ca-ae3724342fa3",
   "metadata": {},
   "outputs": [],
   "source": []
  },
  {
   "cell_type": "code",
   "execution_count": null,
   "id": "e05db09c-2a48-4913-a133-279d1c8e2461",
   "metadata": {},
   "outputs": [],
   "source": []
  }
 ],
 "metadata": {
  "kernelspec": {
   "display_name": "Python 3 (ipykernel)",
   "language": "python",
   "name": "python3"
  },
  "language_info": {
   "codemirror_mode": {
    "name": "ipython",
    "version": 3
   },
   "file_extension": ".py",
   "mimetype": "text/x-python",
   "name": "python",
   "nbconvert_exporter": "python",
   "pygments_lexer": "ipython3",
   "version": "3.10.9"
  }
 },
 "nbformat": 4,
 "nbformat_minor": 5
}
